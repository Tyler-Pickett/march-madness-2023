{
  "nbformat": 4,
  "nbformat_minor": 0,
  "metadata": {
    "colab": {
      "provenance": [],
      "authorship_tag": "ABX9TyOuBNwy0SPVRdL/gg2B1osd",
      "include_colab_link": true
    },
    "kernelspec": {
      "name": "python3",
      "display_name": "Python 3"
    },
    "language_info": {
      "name": "python"
    }
  },
  "cells": [
    {
      "cell_type": "markdown",
      "metadata": {
        "id": "view-in-github",
        "colab_type": "text"
      },
      "source": [
        "<a href=\"https://colab.research.google.com/github/Tyler-Pickett/march-madness-2023/blob/main/MarkovMonteBase.ipynb\" target=\"_parent\"><img src=\"https://colab.research.google.com/assets/colab-badge.svg\" alt=\"Open In Colab\"/></a>"
      ]
    },
    {
      "cell_type": "markdown",
      "source": [
        "In this example, we define the transition model, prior distribution, and likelihood function for the MCMC algorithm. We then use the metropolis_hastings function to run the algorithm and generate a chain of accepted and rejected scores. Finally, we print the mean and standard deviation of the accepted scores.\n",
        "\n",
        "Note that this is just an example code and may need to be modified depending on the specific sports scores data and the questions being asked. Also, MCMC can be a computationally intensive method and may require optimization or parallelization techniques for large datasets.\n",
        "\n",
        "source: https://chat.openai.com/"
      ],
      "metadata": {
        "id": "0AQ_HLlLHBNN"
      }
    },
    {
      "cell_type": "code",
      "execution_count": null,
      "metadata": {
        "id": "2suU_ih5GW9C"
      },
      "outputs": [],
      "source": [
        "import numpy as np\n",
        "import pandas as pd\n",
        "import scipy.stats as stats\n",
        "\n",
        "# Define the transition model\n",
        "def transition_model(scores, step_size=0.1):\n",
        "    return scores + stats.norm(0, step_size).rvs(scores.shape)\n",
        "\n",
        "# Define the prior distribution\n",
        "def prior(scores):\n",
        "    return stats.norm(0, 10).pdf(scores).prod()\n",
        "\n",
        "# Define the likelihood function\n",
        "def likelihood(scores, data):\n",
        "    return stats.norm(scores[0] - scores[1], 10).pdf(data).prod()\n",
        "\n",
        "# Define the MCMC algorithm\n",
        "def metropolis_hastings(data, initial_scores, iterations=10000):\n",
        "    scores = initial_scores\n",
        "    accepted = []\n",
        "    rejected = []\n",
        "    for i in range(iterations):\n",
        "        scores_new = transition_model(scores)\n",
        "        prior_ratio = prior(scores_new) / prior(scores)\n",
        "        likelihood_ratio = likelihood(scores_new, data) / likelihood(scores, data)\n",
        "        acceptance_ratio = min(1, prior_ratio * likelihood_ratio)\n",
        "        u = np.random.uniform()\n",
        "        if u < acceptance_ratio:\n",
        "            scores = scores_new\n",
        "            accepted.append(scores_new)\n",
        "        else:\n",
        "            rejected.append(scores_new)\n",
        "    return np.array(accepted), np.array(rejected)\n",
        "\n",
        "# Load the data\n",
        "data = pd.read_csv('scores.csv')\n",
        "\n",
        "# Set the initial scores\n",
        "initial_scores = np.array([0, 0])\n",
        "\n",
        "# Run the MCMC algorithm\n",
        "accepted, rejected = metropolis_hastings(data, initial_scores)\n",
        "\n",
        "# Print the mean and standard deviation of the accepted scores\n",
        "print('Mean:', accepted.mean(axis=0))\n",
        "print('Standard Deviation:', accepted.std(axis=0))\n"
      ]
    },
    {
      "cell_type": "markdown",
      "source": [
        "Optimizing MCMC can be an important step in improving its efficiency and accuracy. Here are some strategies for optimizing MCMC:\n",
        "\n",
        "1. Use an adaptive algorithm: An adaptive algorithm adjusts the step size of the Markov chain during the simulation to optimize its performance. This can help the algorithm to converge faster and reduce the number of iterations required to achieve a desired level of accuracy.\n",
        "\n",
        "2. Use parallelization techniques: MCMC algorithms can be parallelized to run on multiple processors or cores simultaneously, which can reduce computation time and increase the efficiency of the algorithm.\n",
        "\n",
        "3. Use alternative sampling methods: MCMC algorithms use a random walk to explore the space of possible solutions. Alternative sampling methods, such as Hamiltonian Monte Carlo (HMC) or Sequential Monte Carlo (SMC), can sometimes be more efficient and effective for certain types of problems.\n",
        "\n",
        "4. Use a better proposal distribution: The proposal distribution is an important component of MCMC algorithms that determines the probability of moving from one state to another. Using a better proposal distribution, such as a multivariate normal distribution, can improve the efficiency and convergence of the algorithm.\n",
        "\n",
        "5. Choose appropriate priors: The choice of prior distribution can also impact the performance of the MCMC algorithm. Choosing appropriate priors that are informative but not too restrictive can help the algorithm to converge faster and achieve better accuracy.\n",
        "\n",
        "6. Use diagnostics to assess convergence: Diagnostics such as the Geweke test, the Gelman-Rubin statistic, and the autocorrelation function can be used to assess the convergence and mixing of the Markov chain. Identifying any problems with convergence can help to optimize the algorithm for better performance.\n",
        "\n",
        "It's important to note that MCMC optimization can be a complex and time-consuming process, and may require some trial and error to find the best approach for a particular problem.\n",
        "\n",
        "source: https://chat.openai.com/"
      ],
      "metadata": {
        "id": "aUD7SRvCIYJr"
      }
    },
    {
      "cell_type": "markdown",
      "source": [
        "In this example, we use an adaptive algorithm that adjusts the step size of the Markov chain every adaptive_interval iterations. The algorithm updates the step sizes based on the acceptance rate of the Markov chain in the previous interval. If the acceptance rate is greater than 0.5, the step sizes are increased by a factor of 1.1, and if the acceptance rate is less than 0.5, the step sizes are decreased by a factor of 0.9."
      ],
      "metadata": {
        "id": "LbN76ls3I4K-"
      }
    },
    {
      "cell_type": "code",
      "source": [
        "import numpy as np\n",
        "import pandas as pd\n",
        "import scipy.stats as stats\n",
        "\n",
        "# Define the transition model\n",
        "def transition_model(scores, step_size=0.1):\n",
        "    return scores + stats.norm(0, step_size).rvs(scores.shape)\n",
        "\n",
        "# Define the prior distribution\n",
        "def prior(scores):\n",
        "    return stats.norm(0, 10).pdf(scores).prod()\n",
        "\n",
        "# Define the likelihood function\n",
        "def likelihood(scores, data):\n",
        "    return stats.norm(scores[0] - scores[1], 10).pdf(data).prod()\n",
        "\n",
        "# Define the adaptive algorithm\n",
        "def adaptive_metropolis_hastings(data, initial_scores, iterations=10000, adaptive_interval=100):\n",
        "    scores = initial_scores\n",
        "    accepted = []\n",
        "    rejected = []\n",
        "    step_sizes = [0.1, 0.1]\n",
        "    for i in range(iterations):\n",
        "        scores_new = transition_model(scores, step_sizes)\n",
        "        prior_ratio = prior(scores_new) / prior(scores)\n",
        "        likelihood_ratio = likelihood(scores_new, data) / likelihood(scores, data)\n",
        "        acceptance_ratio = min(1, prior_ratio * likelihood_ratio)\n",
        "        u = np.random.uniform()\n",
        "        if u < acceptance_ratio:\n",
        "            scores = scores_new\n",
        "            accepted.append(scores_new)\n",
        "        else:\n",
        "            rejected.append(scores_new)\n",
        "        if i % adaptive_interval == 0 and i > 0:\n",
        "            acceptance_rate = len(accepted) / (len(accepted) + len(rejected))\n",
        "            if acceptance_rate > 0.5:\n",
        "                step_sizes *= 1.1\n",
        "            else:\n",
        "                step_sizes *= 0.9\n",
        "            accepted = []\n",
        "            rejected = []\n",
        "    return np.array(accepted), np.array(rejected)\n",
        "\n",
        "# Load the data\n",
        "data = pd.read_csv('scores.csv')\n",
        "\n",
        "# Set the initial scores\n",
        "initial_scores = np.array([0, 0])\n",
        "\n",
        "# Run the adaptive MCMC algorithm\n",
        "accepted, rejected = adaptive_metropolis_hastings(data, initial_scores)\n",
        "\n",
        "# Print the mean and standard deviation of the accepted scores\n",
        "print('Mean:', accepted.mean(axis=0))\n",
        "print('Standard Deviation:', accepted.std(axis=0))\n"
      ],
      "metadata": {
        "id": "ccZhTVcsIcWB"
      },
      "execution_count": null,
      "outputs": []
    }
  ]
}